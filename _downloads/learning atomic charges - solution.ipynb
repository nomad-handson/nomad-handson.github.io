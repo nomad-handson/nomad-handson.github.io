{
 "cells": [
  {
   "cell_type": "markdown",
   "metadata": {},
   "source": [
    "# Learning atomic charges"
   ]
  },
  {
   "cell_type": "code",
   "execution_count": 1,
   "metadata": {},
   "outputs": [
    {
     "name": "stdout",
     "output_type": "stream",
     "text": [
      "Populating the interactive namespace from numpy and matplotlib\n"
     ]
    }
   ],
   "source": [
    "%pylab inline\n",
    "import numpy as np\n",
    "import quippy\n",
    "import matplotlib as mpl\n",
    "import matplotlib.pyplot as plt\n",
    "import os"
   ]
  },
  {
   "cell_type": "markdown",
   "metadata": {},
   "source": [
    "Load a database of atomic charges"
   ]
  },
  {
   "cell_type": "code",
   "execution_count": 2,
   "metadata": {
    "collapsed": true
   },
   "outputs": [],
   "source": [
    "atAll = quippy.AtomsList(\"../data_GDB9.xyz\")"
   ]
  },
  {
   "cell_type": "markdown",
   "metadata": {},
   "source": [
    "Define a SOAP descriptor"
   ]
  },
  {
   "cell_type": "code",
   "execution_count": 23,
   "metadata": {
    "collapsed": true
   },
   "outputs": [],
   "source": [
    "Z = 8\n",
    "desc = quippy.Descriptor(\n",
    "        \"soap atom_sigma=0.3 n_max=6 l_max=6 cutoff=2 cutoff_transition_width=0.5 Z={:d} n_species=5 species_Z='1 6 7 8 9'\".format(Z))"
   ]
  },
  {
   "cell_type": "markdown",
   "metadata": {},
   "source": [
    "Evaluate the descriptor for all input configurations. This will take some time to run..."
   ]
  },
  {
   "cell_type": "code",
   "execution_count": 24,
   "metadata": {
    "collapsed": true
   },
   "outputs": [],
   "source": [
    "d=[]\n",
    "c=[]\n",
    "for at in atAll:\n",
    "    at.set_cutoff(desc.cutoff())\n",
    "    at.calc_connect()\n",
    "    \n",
    "    #descAt = quippy.fzeros((desc.dimensions(),desc.descriptor_sizes(at)[0]))\n",
    "    descAt = desc.calc(at)[\"descriptor\"]\n",
    "    \n",
    "    for dd in descAt:\n",
    "        d.append(dd)\n",
    "    for i in quippy.frange(at.n):\n",
    "        if at.Z[i] == Z:\n",
    "            c.append(at.charge[i])\n",
    "d = np.array(d)\n",
    "c = np.array(c)"
   ]
  },
  {
   "cell_type": "markdown",
   "metadata": {},
   "source": [
    "Train a GP on a subset of the charge data using the SOAP descriptor"
   ]
  },
  {
   "cell_type": "code",
   "execution_count": 25,
   "metadata": {
    "collapsed": true
   },
   "outputs": [],
   "source": [
    "nTeach = 1000\n",
    "epsTeach = 0.01\n",
    "zeta = 1\n",
    "xTeach = d[:nTeach,:]\n",
    "yTeach = c[:nTeach]\n",
    "\n",
    "cTeach = np.dot(xTeach,xTeach.T)**zeta + epsTeach**2 * np.eye(nTeach)\n",
    "alpha = np.linalg.solve(cTeach,yTeach)"
   ]
  },
  {
   "cell_type": "code",
   "execution_count": 26,
   "metadata": {
    "collapsed": true
   },
   "outputs": [],
   "source": [
    "xTest = d[nTeach:,:]\n",
    "yTest = c[nTeach:]\n",
    "cTest = np.dot(xTest,xTeach.T)**zeta\n",
    "yTestPredict = np.dot(cTest,alpha)"
   ]
  },
  {
   "cell_type": "code",
   "execution_count": 27,
   "metadata": {},
   "outputs": [
    {
     "name": "stdout",
     "output_type": "stream",
     "text": [
      "0.0330135380754\n"
     ]
    },
    {
     "data": {
      "image/png": "[encoded data removed]",
      "text/plain": [
       "<matplotlib.figure.Figure at 0x7f314bac9b50>"
      ]
     },
     "metadata": {},
     "output_type": "display_data"
    }
   ],
   "source": [
    "plt.plot(yTest,yTestPredict,\"s\")\n",
    "plt.plot([-0.6,0.6],[-0.6,0.6])\n",
    "plt.xlabel(\"Test data\")\n",
    "plt.ylabel(\"Predicted data\")\n",
    "print np.sqrt(np.mean((yTest-yTestPredict)**2))"
   ]
  }
 ],
 "metadata": {
  "anaconda-cloud": {},
  "kernelspec": {
   "display_name": "Python 2",
   "language": "python",
   "name": "python2"
  },
  "language_info": {
   "codemirror_mode": {
    "name": "ipython",
    "version": 2
   },
   "file_extension": ".py",
   "mimetype": "text/x-python",
   "name": "python",
   "nbconvert_exporter": "python",
   "pygments_lexer": "ipython2",
   "version": "2.7.13"
  }
 },
 "nbformat": 4,
 "nbformat_minor": 1
}
